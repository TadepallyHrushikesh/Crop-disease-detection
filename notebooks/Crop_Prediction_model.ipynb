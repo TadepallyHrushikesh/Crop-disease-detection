{
  "cells": [
    {
      "cell_type": "code",
      "source": [
        "!pip install scikit-learn\n",
        "!pip install matplotlib\n",
        "!pip install seaborn"
      ],
      "metadata": {
        "colab": {
          "base_uri": "https://localhost:8080/"
        },
        "id": "YD0cJrbbKsOx",
        "outputId": "3a5ce4bc-ad99-4178-9bf9-8800836b7e24"
      },
      "execution_count": 21,
      "outputs": [
        {
          "output_type": "stream",
          "name": "stdout",
          "text": [
            "Requirement already satisfied: scikit-learn in /usr/local/lib/python3.10/dist-packages (1.2.2)\n",
            "Requirement already satisfied: numpy>=1.17.3 in /usr/local/lib/python3.10/dist-packages (from scikit-learn) (1.25.2)\n",
            "Requirement already satisfied: scipy>=1.3.2 in /usr/local/lib/python3.10/dist-packages (from scikit-learn) (1.11.4)\n",
            "Requirement already satisfied: joblib>=1.1.1 in /usr/local/lib/python3.10/dist-packages (from scikit-learn) (1.4.0)\n",
            "Requirement already satisfied: threadpoolctl>=2.0.0 in /usr/local/lib/python3.10/dist-packages (from scikit-learn) (3.4.0)\n",
            "Requirement already satisfied: matplotlib in /usr/local/lib/python3.10/dist-packages (3.7.1)\n",
            "Requirement already satisfied: contourpy>=1.0.1 in /usr/local/lib/python3.10/dist-packages (from matplotlib) (1.2.1)\n",
            "Requirement already satisfied: cycler>=0.10 in /usr/local/lib/python3.10/dist-packages (from matplotlib) (0.12.1)\n",
            "Requirement already satisfied: fonttools>=4.22.0 in /usr/local/lib/python3.10/dist-packages (from matplotlib) (4.51.0)\n",
            "Requirement already satisfied: kiwisolver>=1.0.1 in /usr/local/lib/python3.10/dist-packages (from matplotlib) (1.4.5)\n",
            "Requirement already satisfied: numpy>=1.20 in /usr/local/lib/python3.10/dist-packages (from matplotlib) (1.25.2)\n",
            "Requirement already satisfied: packaging>=20.0 in /usr/local/lib/python3.10/dist-packages (from matplotlib) (24.0)\n",
            "Requirement already satisfied: pillow>=6.2.0 in /usr/local/lib/python3.10/dist-packages (from matplotlib) (9.4.0)\n",
            "Requirement already satisfied: pyparsing>=2.3.1 in /usr/local/lib/python3.10/dist-packages (from matplotlib) (3.1.2)\n",
            "Requirement already satisfied: python-dateutil>=2.7 in /usr/local/lib/python3.10/dist-packages (from matplotlib) (2.8.2)\n",
            "Requirement already satisfied: six>=1.5 in /usr/local/lib/python3.10/dist-packages (from python-dateutil>=2.7->matplotlib) (1.16.0)\n",
            "Requirement already satisfied: seaborn in /usr/local/lib/python3.10/dist-packages (0.13.1)\n",
            "Requirement already satisfied: numpy!=1.24.0,>=1.20 in /usr/local/lib/python3.10/dist-packages (from seaborn) (1.25.2)\n",
            "Requirement already satisfied: pandas>=1.2 in /usr/local/lib/python3.10/dist-packages (from seaborn) (2.0.3)\n",
            "Requirement already satisfied: matplotlib!=3.6.1,>=3.4 in /usr/local/lib/python3.10/dist-packages (from seaborn) (3.7.1)\n",
            "Requirement already satisfied: contourpy>=1.0.1 in /usr/local/lib/python3.10/dist-packages (from matplotlib!=3.6.1,>=3.4->seaborn) (1.2.1)\n",
            "Requirement already satisfied: cycler>=0.10 in /usr/local/lib/python3.10/dist-packages (from matplotlib!=3.6.1,>=3.4->seaborn) (0.12.1)\n",
            "Requirement already satisfied: fonttools>=4.22.0 in /usr/local/lib/python3.10/dist-packages (from matplotlib!=3.6.1,>=3.4->seaborn) (4.51.0)\n",
            "Requirement already satisfied: kiwisolver>=1.0.1 in /usr/local/lib/python3.10/dist-packages (from matplotlib!=3.6.1,>=3.4->seaborn) (1.4.5)\n",
            "Requirement already satisfied: packaging>=20.0 in /usr/local/lib/python3.10/dist-packages (from matplotlib!=3.6.1,>=3.4->seaborn) (24.0)\n",
            "Requirement already satisfied: pillow>=6.2.0 in /usr/local/lib/python3.10/dist-packages (from matplotlib!=3.6.1,>=3.4->seaborn) (9.4.0)\n",
            "Requirement already satisfied: pyparsing>=2.3.1 in /usr/local/lib/python3.10/dist-packages (from matplotlib!=3.6.1,>=3.4->seaborn) (3.1.2)\n",
            "Requirement already satisfied: python-dateutil>=2.7 in /usr/local/lib/python3.10/dist-packages (from matplotlib!=3.6.1,>=3.4->seaborn) (2.8.2)\n",
            "Requirement already satisfied: pytz>=2020.1 in /usr/local/lib/python3.10/dist-packages (from pandas>=1.2->seaborn) (2023.4)\n",
            "Requirement already satisfied: tzdata>=2022.1 in /usr/local/lib/python3.10/dist-packages (from pandas>=1.2->seaborn) (2024.1)\n",
            "Requirement already satisfied: six>=1.5 in /usr/local/lib/python3.10/dist-packages (from python-dateutil>=2.7->matplotlib!=3.6.1,>=3.4->seaborn) (1.16.0)\n"
          ]
        }
      ]
    },
    {
      "cell_type": "code",
      "source": [
        "# Import necessary libraries\n",
        "import os\n",
        "import pandas as pd\n",
        "import numpy as np\n",
        "import matplotlib.pyplot as plt\n",
        "import seaborn as sns\n",
        "from sklearn.metrics import classification_report\n",
        "from sklearn import metrics\n",
        "from sklearn.tree import DecisionTreeClassifier\n",
        "from sklearn.naive_bayes import GaussianNB\n",
        "from sklearn.svm import SVC\n",
        "from sklearn.linear_model import LogisticRegression\n",
        "from sklearn.ensemble import RandomForestClassifier\n",
        "from sklearn.preprocessing import MinMaxScaler\n",
        "from sklearn.model_selection import train_test_split, cross_val_score\n",
        "import warnings\n",
        "warnings.filterwarnings('ignore')\n",
        "from google.colab import drive\n",
        "import pickle"
      ],
      "metadata": {
        "id": "WkhFM3JpLvWV"
      },
      "execution_count": 64,
      "outputs": []
    },
    {
      "cell_type": "code",
      "source": [
        "# Mount Google Drive\n",
        "def mount_drive():\n",
        "    drive.mount('/content/drive', force_remount=True)\n",
        "    print(\"Google Drive mounted successfully.\")"
      ],
      "metadata": {
        "id": "oj46nh0LLsCN"
      },
      "execution_count": 65,
      "outputs": []
    },
    {
      "cell_type": "code",
      "source": [
        "# Read data from CSV\n",
        "def read_data():\n",
        "    data_path = '/content/drive/MyDrive/Data-processed/crop_recommendation.csv'\n",
        "    df = pd.read_csv(data_path)\n",
        "    return df"
      ],
      "metadata": {
        "id": "AOB5z5vGL56h"
      },
      "execution_count": 66,
      "outputs": []
    },
    {
      "cell_type": "code",
      "source": [
        "# Separate features and target\n",
        "def separate_features_target(df):\n",
        "    features = df[['N', 'P', 'K', 'temperature', 'humidity', 'ph', 'rainfall']]\n",
        "    target = df['label']\n",
        "    return features, target\n"
      ],
      "metadata": {
        "id": "YsXpN0K8L595"
      },
      "execution_count": 67,
      "outputs": []
    },
    {
      "cell_type": "code",
      "source": [
        "# Split data into train and test sets\n",
        "def split_data(features, target):\n",
        "    Xtrain, Xtest, Ytrain, Ytest = train_test_split(features, target, test_size=0.2, random_state=2)\n",
        "    return Xtrain, Xtest, Ytrain, Ytest"
      ],
      "metadata": {
        "id": "M23Iek40L6LZ"
      },
      "execution_count": 68,
      "outputs": []
    },
    {
      "cell_type": "code",
      "source": [
        "# Train and evaluate Decision Tree model\n",
        "def decision_tree(Xtrain, Xtest, Ytrain, Ytest, features, target):\n",
        "    DecisionTree = DecisionTreeClassifier(criterion=\"entropy\", random_state=2, max_depth=5)\n",
        "    DecisionTree.fit(Xtrain, Ytrain)\n",
        "    predicted_values = DecisionTree.predict(Xtest)\n",
        "    accuracy = metrics.accuracy_score(Ytest, predicted_values)\n",
        "    print(\"DecisionTree's Accuracy is: \", accuracy * 100)\n",
        "    print(classification_report(Ytest, predicted_values))\n",
        "    score = cross_val_score(DecisionTree, features, target, cv=5)\n",
        "    print(\"Cross-validation score (Decision Tree):\", score)\n",
        "    save_model(DecisionTree, 'DecisionTree')\n",
        "    return DecisionTree, accuracy"
      ],
      "metadata": {
        "id": "7EOjizknMCnD"
      },
      "execution_count": 69,
      "outputs": []
    },
    {
      "cell_type": "code",
      "source": [
        "# Train and evaluate Logistic Regression model\n",
        "def logistic_regression(Xtrain, Xtest, Ytrain, Ytest, features, target):\n",
        "    LogReg = LogisticRegression(random_state=2)\n",
        "    LogReg.fit(Xtrain, Ytrain)\n",
        "    predicted_values = LogReg.predict(Xtest)\n",
        "    accuracy = metrics.accuracy_score(Ytest, predicted_values)\n",
        "    print(\"Logistic Regression's Accuracy is: \", accuracy)\n",
        "    print(classification_report(Ytest, predicted_values))\n",
        "    score = cross_val_score(LogReg, features, target, cv=5)\n",
        "    print(\"Cross-validation score (Logistic Regression):\", score)\n",
        "    save_model(LogReg, 'LogisticRegression')\n",
        "    return LogReg, accuracy"
      ],
      "metadata": {
        "id": "y2WbKeQTMMRQ"
      },
      "execution_count": 70,
      "outputs": []
    },
    {
      "cell_type": "code",
      "source": [
        "# Train and evaluate Random Forest model\n",
        "def random_forest(Xtrain, Xtest, Ytrain, Ytest, features, target):\n",
        "    RF = RandomForestClassifier(n_estimators=20, random_state=0)\n",
        "    RF.fit(Xtrain, Ytrain)\n",
        "    predicted_values = RF.predict(Xtest)\n",
        "    accuracy = metrics.accuracy_score(Ytest, predicted_values)\n",
        "    print(\"Random Forest's Accuracy is: \", accuracy)\n",
        "    print(classification_report(Ytest, predicted_values))\n",
        "    score = cross_val_score(RF, features, target, cv=5)\n",
        "    print(\"Cross-validation score (Random Forest):\", score)\n",
        "    save_model(RF, 'RandomForest')\n",
        "    return RF, accuracy"
      ],
      "metadata": {
        "id": "-WAlap39MTI_"
      },
      "execution_count": 71,
      "outputs": []
    },
    {
      "cell_type": "code",
      "source": [
        "# Train and evaluate Support Vector Machine (SVM) model\n",
        "def support_vector_machine(Xtrain, Xtest, Ytrain, Ytest, features, target):\n",
        "    norm = MinMaxScaler().fit(Xtrain)\n",
        "    X_train_norm = norm.transform(Xtrain)\n",
        "    X_test_norm = norm.transform(Xtest)\n",
        "    SVM = SVC(kernel='poly', degree=3, C=1)\n",
        "    SVM.fit(X_train_norm, Ytrain)\n",
        "    predicted_values = SVM.predict(X_test_norm)\n",
        "    accuracy = metrics.accuracy_score(Ytest, predicted_values)\n",
        "    print(\"SVM's Accuracy is: \", accuracy)\n",
        "    print(classification_report(Ytest, predicted_values))\n",
        "    score = cross_val_score(SVM, features, target, cv=5)\n",
        "    print(\"Cross-validation score (SVM):\", score)\n",
        "    save_model(SVM, 'SVM')\n",
        "    return SVM, accuracy"
      ],
      "metadata": {
        "id": "HdR1coL1MU-6"
      },
      "execution_count": 72,
      "outputs": []
    },
    {
      "cell_type": "code",
      "source": [
        "# Save trained model\n",
        "def save_model(model, model_name):\n",
        "    model_path = f'/content/drive/MyDrive/models/{model_name}.pkl'\n",
        "    with open(model_path, 'wb') as file:\n",
        "        pickle.dump(model, file)\n",
        "    print(f\"{model_name} model saved successfully.\")"
      ],
      "metadata": {
        "id": "kUkUqF-5MWiM"
      },
      "execution_count": 73,
      "outputs": []
    },
    {
      "cell_type": "code",
      "source": [
        "# Main function\n",
        "def main():\n",
        "    mount_drive()\n",
        "    df = read_data()\n",
        "    features, target = separate_features_target(df)\n",
        "    Xtrain, Xtest, Ytrain, Ytest = split_data(features, target)\n",
        "    acc = []\n",
        "    model = []\n",
        "\n",
        "    DecisionTree, accuracy = decision_tree(Xtrain, Xtest, Ytrain, Ytest, features, target)\n",
        "    acc.append(accuracy)\n",
        "    model.append('Decision Tree')\n",
        "\n",
        "    SVM, accuracy = support_vector_machine(Xtrain, Xtest, Ytrain, Ytest, features, target)\n",
        "    acc.append(accuracy)\n",
        "    model.append('Support Vector Machine')\n",
        "\n",
        "    LogReg, accuracy = logistic_regression(Xtrain, Xtest, Ytrain, Ytest, features, target)\n",
        "    acc.append(accuracy)\n",
        "    model.append('Logistic Regression')\n",
        "\n",
        "    RF, accuracy = random_forest(Xtrain, Xtest, Ytrain, Ytest, features, target)\n",
        "    acc.append(accuracy)\n",
        "    model.append('Random Forest')\n",
        "\n",
        "    plt.figure(figsize=[10, 5], dpi=100)\n",
        "    plt.title('Accuracy Comparison')\n",
        "    plt.xlabel('Accuracy')\n",
        "    plt.ylabel('Algorithm')\n",
        "    sns.barplot(x=acc, y=model, palette='dark')\n",
        "\n",
        "    accuracy_models = dict(zip(model, acc))\n",
        "    for k, v in accuracy_models.items():\n",
        "        print(k, '-->', v)\n",
        "\n",
        "    return DecisionTree, NaiveBayes, SVM, LogReg, RF"
      ],
      "metadata": {
        "id": "8iUmfJ5sMYzc"
      },
      "execution_count": 74,
      "outputs": []
    },
    {
      "cell_type": "code",
      "source": [
        "if __name__ == \"__main__\":\n",
        "    DecisionTree, NaiveBayes, SVM, LogReg, RF = main()"
      ],
      "metadata": {
        "colab": {
          "base_uri": "https://localhost:8080/",
          "height": 1000
        },
        "id": "B6qQ3cxXMlSw",
        "outputId": "bba926bd-8fca-4a5e-fdc4-70f6365be507"
      },
      "execution_count": 75,
      "outputs": [
        {
          "output_type": "stream",
          "name": "stdout",
          "text": [
            "Mounted at /content/drive\n",
            "Google Drive mounted successfully.\n",
            "DecisionTree's Accuracy is:  90.68181818181819\n",
            "              precision    recall  f1-score   support\n",
            "\n",
            "       apple       1.00      1.00      1.00        13\n",
            "      banana       1.00      1.00      1.00        17\n",
            "   blackgram       0.64      1.00      0.78        16\n",
            "    chickpea       1.00      1.00      1.00        21\n",
            "     coconut       1.00      1.00      1.00        21\n",
            "      coffee       1.00      0.82      0.90        22\n",
            "      cotton       1.00      1.00      1.00        20\n",
            "      grapes       1.00      1.00      1.00        18\n",
            "        jute       1.00      0.21      0.35        28\n",
            " kidneybeans       1.00      0.79      0.88        14\n",
            "      lentil       1.00      0.96      0.98        23\n",
            "       maize       0.74      0.95      0.83        21\n",
            "       mango       1.00      0.92      0.96        26\n",
            "   mothbeans       0.92      0.58      0.71        19\n",
            "    mungbean       1.00      1.00      1.00        24\n",
            "   muskmelon       1.00      1.00      1.00        23\n",
            "      orange       1.00      1.00      1.00        29\n",
            "      papaya       1.00      1.00      1.00        19\n",
            "  pigeonpeas       0.90      1.00      0.95        18\n",
            " pomegranate       1.00      1.00      1.00        17\n",
            "        rice       0.42      1.00      0.59        16\n",
            "  watermelon       1.00      1.00      1.00        15\n",
            "\n",
            "    accuracy                           0.91       440\n",
            "   macro avg       0.94      0.92      0.91       440\n",
            "weighted avg       0.95      0.91      0.90       440\n",
            "\n",
            "Cross-validation score (Decision Tree): [0.93409091 0.90454545 0.91818182 0.92272727 0.93181818]\n",
            "DecisionTree model saved successfully.\n",
            "SVM's Accuracy is:  0.9818181818181818\n",
            "              precision    recall  f1-score   support\n",
            "\n",
            "       apple       1.00      1.00      1.00        13\n",
            "      banana       1.00      1.00      1.00        17\n",
            "   blackgram       0.89      1.00      0.94        16\n",
            "    chickpea       1.00      1.00      1.00        21\n",
            "     coconut       1.00      1.00      1.00        21\n",
            "      coffee       1.00      1.00      1.00        22\n",
            "      cotton       1.00      1.00      1.00        20\n",
            "      grapes       1.00      1.00      1.00        18\n",
            "        jute       0.89      0.89      0.89        28\n",
            " kidneybeans       1.00      1.00      1.00        14\n",
            "      lentil       1.00      1.00      1.00        23\n",
            "       maize       1.00      1.00      1.00        21\n",
            "       mango       1.00      1.00      1.00        26\n",
            "   mothbeans       1.00      0.89      0.94        19\n",
            "    mungbean       1.00      1.00      1.00        24\n",
            "   muskmelon       1.00      1.00      1.00        23\n",
            "      orange       1.00      1.00      1.00        29\n",
            "      papaya       1.00      1.00      1.00        19\n",
            "  pigeonpeas       1.00      1.00      1.00        18\n",
            " pomegranate       1.00      1.00      1.00        17\n",
            "        rice       0.81      0.81      0.81        16\n",
            "  watermelon       1.00      1.00      1.00        15\n",
            "\n",
            "    accuracy                           0.98       440\n",
            "   macro avg       0.98      0.98      0.98       440\n",
            "weighted avg       0.98      0.98      0.98       440\n",
            "\n",
            "Cross-validation score (SVM): [0.98636364 0.98181818 0.98409091 0.98636364 0.98181818]\n",
            "SVM model saved successfully.\n",
            "Logistic Regression's Accuracy is:  0.9636363636363636\n",
            "              precision    recall  f1-score   support\n",
            "\n",
            "       apple       1.00      1.00      1.00        13\n",
            "      banana       1.00      1.00      1.00        17\n",
            "   blackgram       0.79      0.94      0.86        16\n",
            "    chickpea       1.00      1.00      1.00        21\n",
            "     coconut       1.00      1.00      1.00        21\n",
            "      coffee       1.00      0.95      0.98        22\n",
            "      cotton       0.91      1.00      0.95        20\n",
            "      grapes       1.00      1.00      1.00        18\n",
            "        jute       0.87      0.93      0.90        28\n",
            " kidneybeans       0.93      1.00      0.97        14\n",
            "      lentil       0.96      1.00      0.98        23\n",
            "       maize       0.95      0.90      0.93        21\n",
            "       mango       1.00      1.00      1.00        26\n",
            "   mothbeans       0.94      0.79      0.86        19\n",
            "    mungbean       1.00      0.96      0.98        24\n",
            "   muskmelon       1.00      1.00      1.00        23\n",
            "      orange       1.00      1.00      1.00        29\n",
            "      papaya       0.95      0.95      0.95        19\n",
            "  pigeonpeas       1.00      0.94      0.97        18\n",
            " pomegranate       1.00      1.00      1.00        17\n",
            "        rice       0.93      0.81      0.87        16\n",
            "  watermelon       1.00      1.00      1.00        15\n",
            "\n",
            "    accuracy                           0.96       440\n",
            "   macro avg       0.96      0.96      0.96       440\n",
            "weighted avg       0.97      0.96      0.96       440\n",
            "\n",
            "Cross-validation score (Logistic Regression): [0.96818182 0.96363636 0.96590909 0.97954545 0.95227273]\n",
            "LogisticRegression model saved successfully.\n",
            "Random Forest's Accuracy is:  0.9818181818181818\n",
            "              precision    recall  f1-score   support\n",
            "\n",
            "       apple       1.00      1.00      1.00        13\n",
            "      banana       1.00      1.00      1.00        17\n",
            "   blackgram       0.84      1.00      0.91        16\n",
            "    chickpea       1.00      1.00      1.00        21\n",
            "     coconut       1.00      1.00      1.00        21\n",
            "      coffee       1.00      1.00      1.00        22\n",
            "      cotton       1.00      1.00      1.00        20\n",
            "      grapes       1.00      1.00      1.00        18\n",
            "        jute       0.87      0.96      0.92        28\n",
            " kidneybeans       1.00      1.00      1.00        14\n",
            "      lentil       1.00      1.00      1.00        23\n",
            "       maize       1.00      1.00      1.00        21\n",
            "       mango       1.00      1.00      1.00        26\n",
            "   mothbeans       1.00      0.84      0.91        19\n",
            "    mungbean       1.00      1.00      1.00        24\n",
            "   muskmelon       1.00      1.00      1.00        23\n",
            "      orange       1.00      1.00      1.00        29\n",
            "      papaya       1.00      1.00      1.00        19\n",
            "  pigeonpeas       1.00      1.00      1.00        18\n",
            " pomegranate       1.00      1.00      1.00        17\n",
            "        rice       0.92      0.75      0.83        16\n",
            "  watermelon       1.00      1.00      1.00        15\n",
            "\n",
            "    accuracy                           0.98       440\n",
            "   macro avg       0.98      0.98      0.98       440\n",
            "weighted avg       0.98      0.98      0.98       440\n",
            "\n",
            "Cross-validation score (Random Forest): [0.99090909 0.99318182 0.99545455 0.99318182 0.99318182]\n",
            "RandomForest model saved successfully.\n",
            "Decision Tree --> 0.9068181818181819\n",
            "Support Vector Machine --> 0.9818181818181818\n",
            "Logistic Regression --> 0.9636363636363636\n",
            "Random Forest --> 0.9818181818181818\n"
          ]
        },
        {
          "output_type": "display_data",
          "data": {
            "text/plain": [
              "<Figure size 1000x500 with 1 Axes>"
            ],
            "image/png": "[encoded data removed]"
          },
          "metadata": {}
        }
      ]
    },
    {
      "cell_type": "code",
      "source": [
        "# Make predictions\n",
        "data = np.array([[104, 18, 30, 23.603016, 60.3, 6.7, 140.91]])\n",
        "prediction = DecisionTree.predict(data)\n",
        "print(\"Prediction for data (Decision Tree):\", prediction)\n",
        "\n",
        "data = np.array([[83, 45, 60, 28, 70.3, 7.0, 150.9]])\n",
        "prediction = DecisionTree.predict(data)\n",
        "print(\"Prediction for data (Decision Tree):\", prediction)\n",
        "\n",
        "data = np.array([[104, 18, 30, 23.603016, 60.3, 6.7, 140.91]])\n",
        "prediction = SVM.predict(data)\n",
        "print(\"Prediction for data (SVM):\", prediction)\n",
        "\n",
        "data = np.array([[83, 45, 60, 28, 70.3, 7.0, 150.9]])\n",
        "prediction = SVM.predict(data)\n",
        "print(\"Prediction for data (SVM):\", prediction)\n",
        "\n",
        "data = np.array([[104, 18, 30, 23.603016, 60.3, 6.7, 140.91]])\n",
        "prediction = LogReg.predict(data)\n",
        "print(\"Prediction for data (Logistic Regression):\", prediction)\n",
        "\n",
        "data = np.array([[83, 45, 60, 28, 70.3, 7.0, 150.9]])\n",
        "prediction = LogReg.predict(data)\n",
        "print(\"Prediction for data (Logistic Regression):\", prediction)\n",
        "\n",
        "data = np.array([[104, 18, 30, 23.603016, 60.3, 6.7, 140.91]])\n",
        "prediction = RF.predict(data)\n",
        "print(\"Prediction for data (Random Forest):\", prediction)\n",
        "\n",
        "data = np.array([[83, 45, 60, 28, 70.3, 7.0, 150.9]])\n",
        "prediction = RF.predict(data)\n",
        "print(\"Prediction for data (Random Forest):\", prediction)"
      ],
      "metadata": {
        "colab": {
          "base_uri": "https://localhost:8080/"
        },
        "id": "rFGpmsZFMg83",
        "outputId": "a3001180-8933-4401-bdd2-e45b8f2f9e84"
      },
      "execution_count": 76,
      "outputs": [
        {
          "output_type": "stream",
          "name": "stdout",
          "text": [
            "Prediction for data (Decision Tree): ['coffee']\n",
            "Prediction for data (Decision Tree): ['jute']\n",
            "Prediction for data (SVM): ['rice']\n",
            "Prediction for data (SVM): ['apple']\n",
            "Prediction for data (Logistic Regression): ['coffee']\n",
            "Prediction for data (Logistic Regression): ['jute']\n",
            "Prediction for data (Random Forest): ['coffee']\n",
            "Prediction for data (Random Forest): ['coffee']\n"
          ]
        }
      ]
    }
  ],
  "metadata": {
    "kernelspec": {
      "display_name": "Python 3",
      "name": "python3"
    },
    "language_info": {
      "codemirror_mode": {
        "name": "ipython",
        "version": 3
      },
      "file_extension": ".py",
      "mimetype": "text/x-python",
      "name": "python",
      "nbconvert_exporter": "python",
      "pygments_lexer": "ipython3",
      "version": "3.8.5"
    },
    "colab": {
      "provenance": [],
      "machine_shape": "hm",
      "gpuType": "L4"
    },
    "accelerator": "GPU"
  },
  "nbformat": 4,
  "nbformat_minor": 0
}